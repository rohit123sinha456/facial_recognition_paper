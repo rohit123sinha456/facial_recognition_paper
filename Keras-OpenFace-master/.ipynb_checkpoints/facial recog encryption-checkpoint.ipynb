{
 "cells": [
  {
   "cell_type": "code",
   "execution_count": 1,
   "metadata": {},
   "outputs": [
    {
     "name": "stderr",
     "output_type": "stream",
     "text": [
      "Using TensorFlow backend.\n",
      "/Users/macworld/opt/anaconda3/envs/py2/lib/python2.7/site-packages/keras/engine/saving.py:341: UserWarning: No training configuration found in save file: the model was *not* compiled. Compile it manually.\n",
      "  warnings.warn('No training configuration found in save file: '\n"
     ]
    }
   ],
   "source": [
    "import os\n",
    "import cv2\n",
    "import utils\n",
    "import numpy as np\n",
    "from numpy import genfromtxt\n",
    "from keras.models import load_model\n",
    "from keras.utils import CustomObjectScope\n",
    "import tensorflow as tf\n",
    "with CustomObjectScope({'tf': tf}):\n",
    "  model = load_model('model/nn4.small2.v1.h5')"
   ]
  },
  {
   "cell_type": "code",
   "execution_count": 2,
   "metadata": {},
   "outputs": [],
   "source": [
    "weights = utils.weights\n",
    "weight_dict = utils.load_weights()"
   ]
  },
  {
   "cell_type": "code",
   "execution_count": 3,
   "metadata": {},
   "outputs": [],
   "source": [
    "for name in weights:\n",
    "    model.get_layer(name).set_weights(weight_dict[name])"
   ]
  },
  {
   "cell_type": "code",
   "execution_count": 20,
   "metadata": {},
   "outputs": [],
   "source": [
    "import cryptography\n",
    "from cryptography.fernet import Fernet\n",
    "import base64\n",
    "import os\n",
    "from cryptography.hazmat.backends import default_backend\n",
    "from cryptography.hazmat.primitives import hashes\n",
    "from cryptography.hazmat.primitives.kdf.pbkdf2 import PBKDF2HMAC\n",
    "\n",
    "def keygeneration(mailid):\n",
    "#getting and storing the key\n",
    "    #with open(\"key.jpg\", \"rb\") as img_file:\n",
    "    key = ''\n",
    "    password = base64.b64encode(str.encode(mailid))\n",
    "    filen = raw_input(\"enter the destination where the encoded key will be saved\")\n",
    "    #password_e=password.encode()#converting the password to byte form\n",
    "    salt='salt'.encode()#creating a random 16 bits salt string\n",
    "    kdf = PBKDF2HMAC(\n",
    "        algorithm=hashes.SHA256(),\n",
    "        length=32,\n",
    "        salt=salt,\n",
    "        iterations=100000,\n",
    "        backend=default_backend()\n",
    "    )\n",
    "    key = base64.urlsafe_b64encode(kdf.derive(password)) #derives one or more secret keys \n",
    "                                                        #In conjunction with non-secret parameters to derive \n",
    "                                                        #one or more keys from a common secret value\n",
    "                                                        #can be used one time only\n",
    "                                                        #Final key\n",
    "    with open(filen, 'wb') as f: #saving the key for later use\n",
    "        f.write(key)     # The key is type bytes still\n",
    "        f.close()\n",
    "    return key\n",
    "\n",
    "#---------------ENCRYPTION--------------\n",
    "\n",
    "def encryption(key):\n",
    "    \n",
    "    input_file= raw_input(\"Enter the path of the file location to be encrypted \")\n",
    "    output_file= raw_input(\"Enter the destination of the encrypted text \")\n",
    "\n",
    "    with open(input_file, 'rb') as f:\n",
    "        data = f.read()   #reading the file to be encryted\n",
    "    \n",
    "    fernet = Fernet(key)   #creating object of fernet class with our key\n",
    "    encrypted = fernet.encrypt(data) #encrypting\n",
    "\n",
    "    with open(output_file, 'wb') as f: #writing the encryted msg\n",
    "        f.write(encrypted)\n",
    "\n",
    "    print(\"Encryption done.....!!!!!\")\n",
    "    \n",
    "#---------------DECRYPTION---------------\n",
    "\n",
    "def decryption(key):\n",
    "    \n",
    "    input_file_d = raw_input(\" Enter the path of the file location to be decrypted \")\n",
    "    output_file_d= raw_input(\"Enter the destination of the decrypted text \")\n",
    "\n",
    "    with open(input_file_d, 'rb') as f:\n",
    "        data = f.read()   #reading the file to be decryted\n",
    "    \n",
    "    fernet = Fernet(key)   #creating object of fernet class with our key\n",
    "    encrypted = fernet.decrypt(data) #encrypting\n",
    "\n",
    "    with open(output_file_d, 'wb') as f: #writing the decryted msg\n",
    "        f.write(encrypted)\n",
    "    \n",
    "    print(\"Decryption done.....!!!!!\")\n"
   ]
  },
  {
   "cell_type": "markdown",
   "metadata": {},
   "source": [
    "### Converting image to embedding"
   ]
  },
  {
   "cell_type": "code",
   "execution_count": 8,
   "metadata": {},
   "outputs": [],
   "source": [
    "def image_to_embedding(image, model):\n",
    "    #image = cv2.resize(image, (96, 96), interpolation=cv2.INTER_AREA) \n",
    "    image = cv2.resize(image, (96, 96)) \n",
    "    img = image[...,::-1]\n",
    "    img = np.around(np.transpose(img, (0,1,2))/255.0, decimals=12)\n",
    "    x_train = np.array([img])\n",
    "    embedding = model.predict_on_batch(x_train)\n",
    "    return embedding"
   ]
  },
  {
   "cell_type": "markdown",
   "metadata": {},
   "source": [
    "### function to recognise image"
   ]
  },
  {
   "cell_type": "code",
   "execution_count": 9,
   "metadata": {},
   "outputs": [],
   "source": [
    "def recognize_face(face_image, input_embeddings, model):\n",
    "\n",
    "    embedding = image_to_embedding(face_image, model)\n",
    "    \n",
    "    minimum_distance = 200\n",
    "    name = None\n",
    "    \n",
    "    # Loop over  names and encodings.\n",
    "    for (input_name, input_embedding) in input_embeddings.items():\n",
    "        \n",
    "       \n",
    "        euclidean_distance = np.linalg.norm(embedding-input_embedding)\n",
    "        \n",
    "\n",
    "        print('Euclidean distance from %s is %s' %(input_name, euclidean_distance))\n",
    "\n",
    "        \n",
    "        if euclidean_distance < minimum_distance:\n",
    "            minimum_distance = euclidean_distance\n",
    "            name = input_name\n",
    "    \n",
    "    if minimum_distance < 0.75:\n",
    "        return str(name)\n",
    "    else:\n",
    "        return None"
   ]
  },
  {
   "cell_type": "markdown",
   "metadata": {},
   "source": [
    "### Capturing image samples"
   ]
  },
  {
   "cell_type": "code",
   "execution_count": 10,
   "metadata": {},
   "outputs": [],
   "source": [
    "def sampling():\n",
    "    mail = raw_input(\"Enter the mailid\")\n",
    "    mid = keygeneration(mail)\n",
    "    cam = cv2.VideoCapture(0)\n",
    "\n",
    "    face_detector = cv2.CascadeClassifier('haarcascade_frontalface_default.xml')\n",
    "\n",
    "    count = 0\n",
    "    while(True):\n",
    "        ret, img = cam.read()\n",
    "        #gray = cv2.cvtColor(img, cv2.COLOR_BGR2GRAY)\n",
    "        faces = face_detector.detectMultiScale(img, 1.3, 5)\n",
    "        for (x,y,w,h) in faces:\n",
    "            x1 = x\n",
    "            y1 = y\n",
    "            x2 = x+w\n",
    "            y2 = y+h\n",
    "            cv2.rectangle(img, (x1,y1), (x2,y2), (255,255,255), 2)     \n",
    "            count += 1\n",
    "            # Save the captured image into the datasets folder\n",
    "            cv2.imwrite(\"encryptedimages/\"+mid + \".jpg\", img[y1:y2,x1:x2])\n",
    "            cv2.imshow('image', img)\n",
    "        k = cv2.waitKey(200) & 0xff # Press 'ESC' for exiting video\n",
    "        if k == 27:\n",
    "            break\n",
    "        elif count >= 10: # Take 30 face sample and stop video\n",
    "             break\n",
    "    cam.release()\n",
    "    cv2.destroyAllWindows()"
   ]
  },
  {
   "cell_type": "markdown",
   "metadata": {},
   "source": [
    "## This check if the gien creds is the person or not"
   ]
  },
  {
   "cell_type": "code",
   "execution_count": 11,
   "metadata": {},
   "outputs": [],
   "source": [
    "import glob\n",
    "\n",
    "def create_input_image_embeddings():\n",
    "    input_embeddings = {}\n",
    "\n",
    "    for file in glob.glob(\"encryptedimages/*\"):\n",
    "        person_name = os.path.splitext(os.path.basename(file))[0]\n",
    "        image_file = cv2.imread(file, 1)\n",
    "        input_embeddings[person_name] = image_to_embedding(image_file, model)\n",
    "\n",
    "    return input_embeddings\n",
    "\n",
    "def recognize_faces_in_cam(input_embeddings):\n",
    "    \n",
    "    count = 0\n",
    "    cv2.namedWindow(\"Face Recognizer\")\n",
    "    vc = cv2.VideoCapture(0)\n",
    "   \n",
    "\n",
    "    font = cv2.FONT_HERSHEY_SIMPLEX\n",
    "    face_cascade = cv2.CascadeClassifier('haarcascade_frontalface_default.xml')\n",
    "    \n",
    "    #while(count > 5):\n",
    "    while vc.isOpened():\n",
    "        _, frame = vc.read()\n",
    "        img = frame\n",
    "        height, width, channels = frame.shape\n",
    "\n",
    "        \n",
    "        \n",
    "        gray = cv2.cvtColor(frame, cv2.COLOR_BGR2GRAY)\n",
    "        faces = face_cascade.detectMultiScale(gray, 1.3, 5)\n",
    "\n",
    "        # Loop through all the faces detected \n",
    "        identities = []\n",
    "        for (x, y, w, h) in faces:\n",
    "            x1 = x\n",
    "            y1 = y\n",
    "            x2 = x+w\n",
    "            y2 = y+h\n",
    "\n",
    "           \n",
    "            \n",
    "            face_image = frame[max(0, y1):min(height, y2), max(0, x1):min(width, x2)]    \n",
    "            identity = recognize_face(face_image, input_embeddings, model)\n",
    "            \n",
    "            #print(identity)\n",
    "            print(\"calling creds\")\n",
    "            decryption(identity)\n",
    "            if(count == 0):\n",
    "                break\n",
    "            '''\n",
    "            if identity is not None:\n",
    "                img = cv2.rectangle(frame,(x1, y1),(x2, y2),(255,255,255),2)\n",
    "                cv2.putText(img, str(identity), (x1+5,y1-5), font, 1, (255,255,255), 2)\n",
    "        \n",
    "        key = cv2.waitKey(100)\n",
    "        cv2.imshow(\"Face Recognizer\", img)\n",
    "        '''\n",
    "        key = cv2.waitKey(100)\n",
    "        if(count == 0):\n",
    "            break\n",
    "        if key == 27: # exit on ESC\n",
    "            break\n",
    "    vc.release()\n",
    "    cv2.destroyAllWindows()"
   ]
  },
  {
   "cell_type": "markdown",
   "metadata": {},
   "source": [
    "## Lets Run the program"
   ]
  },
  {
   "cell_type": "code",
   "execution_count": 21,
   "metadata": {},
   "outputs": [
    {
     "name": "stdout",
     "output_type": "stream",
     "text": [
      "Enter the mailidrohit\n",
      "enter the destination where the encoded key will be savedkey.txt\n"
     ]
    }
   ],
   "source": [
    "#Encrypting the messgage\n",
    "sampling()"
   ]
  },
  {
   "cell_type": "code",
   "execution_count": 23,
   "metadata": {},
   "outputs": [
    {
     "name": "stdout",
     "output_type": "stream",
     "text": [
      "Enter the senders mail idrohit\n",
      "enter the destination where the encoded key will be savedenkey.txt\n",
      "Enter the path of the file location to be encrypted msg.txt\n",
      "Enter the destination of the encrypted text encrypt.txt\n",
      "Encryption done.....!!!!!\n"
     ]
    }
   ],
   "source": [
    "mailid = raw_input(\"Enter the senders mail id\")\n",
    "key = keygeneration(mailid)\n",
    "encryption(key)"
   ]
  },
  {
   "cell_type": "code",
   "execution_count": 26,
   "metadata": {},
   "outputs": [
    {
     "name": "stdout",
     "output_type": "stream",
     "text": [
      "Euclidean distance from ZNJqYe_TIHFIl56eyfKc7PXv4GDfIrlrkgkwNxoVkE8= is 0.3408025\n",
      "calling creds\n",
      " Enter the path of the file location to be decrypted encrypt.txt\n",
      "Enter the destination of the decrypted text decrypt.txt\n",
      "Decryption done.....!!!!!\n"
     ]
    }
   ],
   "source": [
    "input_embeddings = create_input_image_embeddings()\n",
    "recognize_faces_in_cam(input_embeddings)"
   ]
  },
  {
   "cell_type": "code",
   "execution_count": null,
   "metadata": {},
   "outputs": [],
   "source": []
  }
 ],
 "metadata": {
  "kernelspec": {
   "display_name": "Python [conda env:py2]",
   "language": "python",
   "name": "conda-env-py2-py"
  },
  "language_info": {
   "codemirror_mode": {
    "name": "ipython",
    "version": 2
   },
   "file_extension": ".py",
   "mimetype": "text/x-python",
   "name": "python",
   "nbconvert_exporter": "python",
   "pygments_lexer": "ipython2",
   "version": "2.7.17"
  }
 },
 "nbformat": 4,
 "nbformat_minor": 2
}
