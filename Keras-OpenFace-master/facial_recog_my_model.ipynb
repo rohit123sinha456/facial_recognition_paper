{
 "cells": [
  {
   "cell_type": "code",
   "execution_count": 1,
   "metadata": {},
   "outputs": [
    {
     "name": "stderr",
     "output_type": "stream",
     "text": [
      "Using TensorFlow backend.\n",
      "/Users/macworld/opt/anaconda3/envs/py2/lib/python2.7/site-packages/keras/engine/saving.py:341: UserWarning: No training configuration found in save file: the model was *not* compiled. Compile it manually.\n",
      "  warnings.warn('No training configuration found in save file: '\n"
     ]
    }
   ],
   "source": [
    "import os\n",
    "import cv2\n",
    "import utils\n",
    "import numpy as np\n",
    "from numpy import genfromtxt\n",
    "from keras.models import load_model\n",
    "from keras.utils import CustomObjectScope\n",
    "import tensorflow as tf\n",
    "with CustomObjectScope({'tf': tf}):\n",
    "  model = load_model('model/nn4.small2.v1.h5')"
   ]
  },
  {
   "cell_type": "code",
   "execution_count": 2,
   "metadata": {},
   "outputs": [],
   "source": [
    "weights = utils.weights\n",
    "weight_dict = utils.load_weights()"
   ]
  },
  {
   "cell_type": "code",
   "execution_count": 3,
   "metadata": {},
   "outputs": [],
   "source": [
    "for name in weights:\n",
    "    model.get_layer(name).set_weights(weight_dict[name])"
   ]
  },
  {
   "cell_type": "code",
   "execution_count": 4,
   "metadata": {},
   "outputs": [],
   "source": [
    "from __future__ import print_function\n",
    "from email.mime.text import MIMEText\n",
    "import base64\n",
    "import pickle\n",
    "import os.path\n",
    "from googleapiclient.discovery import build\n",
    "from google_auth_oauthlib.flow import InstalledAppFlow\n",
    "from google.auth.transport.requests import Request\n",
    "\n",
    "# If modifying these scopes, delete the file token.pickle.\n",
    "SCOPES = ['https://www.googleapis.com/auth/gmail.send']\n",
    "\n",
    "def send_mail():\n",
    "    \"\"\"Shows basic usage of the Gmail API.\n",
    "    Lists the user's Gmail labels.\n",
    "    \"\"\"\n",
    "    creds = None\n",
    "    # The file token.pickle stores the user's access and refresh tokens, and is\n",
    "    # created automatically when the authorization flow completes for the first\n",
    "    # time.\n",
    "    if os.path.exists('token.pickle'):\n",
    "        with open('token.pickle', 'rb') as token:\n",
    "            creds = pickle.load(token)\n",
    "    # If there are no (valid) credentials available, let the user log in.\n",
    "    if not creds or not creds.valid:\n",
    "        if creds and creds.expired and creds.refresh_token:\n",
    "            creds.refresh(Request())\n",
    "        else:\n",
    "            flow = InstalledAppFlow.from_client_secrets_file(\n",
    "                'creds.json', SCOPES)\n",
    "            creds = flow.run_local_server(port=0)\n",
    "        # Save the credentials for the next run\n",
    "        with open('token.pickle', 'wb') as token:\n",
    "            pickle.dump(creds, token)\n",
    "\n",
    "    service = build('gmail', 'v1', credentials=creds)\n",
    "\n",
    "    # Call the Gmail API\n",
    "    '''results = service.users().labels().list(userId='me').execute()\n",
    "    labels = results.get('labels', [])\n",
    "\n",
    "    if not labels:\n",
    "        print('No labels found.')\n",
    "    else:\n",
    "        print('Labels:')\n",
    "        for label in labels:\n",
    "            print(label['name'])'''\n",
    "    return(service)\n",
    "\n",
    "\n",
    "\n",
    "def create_message(sender, to, subject, message_text):\n",
    "  \"\"\"Create a message for an email.\n",
    "\n",
    "  Args:\n",
    "    sender: Email address of the sender.\n",
    "    to: Email address of the receiver.\n",
    "    subject: The subject of the email message.\n",
    "    message_text: The text of the email message.\n",
    "\n",
    "  Returns:\n",
    "    An object containing a base64url encoded email object.\n",
    "  \"\"\"\n",
    "  message = MIMEText(message_text)\n",
    "  message['to'] = to\n",
    "  message['from'] = sender\n",
    "  message['subject'] = subject\n",
    "  return {'raw': base64.urlsafe_b64encode(message.as_string())}\n",
    "\n",
    "def send_message(service, user_id, message):\n",
    "  \"\"\"Send an email message.\n",
    "\n",
    "  Args:\n",
    "    service: Authorized Gmail API service instance.\n",
    "    user_id: User's email address. The special value \"me\"\n",
    "    can be used to indicate the authenticated user.\n",
    "    message: Message to be sent.\n",
    "\n",
    "  Returns:\n",
    "    Sent Message.\n",
    "  \"\"\"\n",
    "  try:\n",
    "    message = (service.users().messages().send(userId=user_id, body=message)\n",
    "               .execute())\n",
    "    print('Message Id: %s' % message['id'])\n",
    "    return message\n",
    "  except():\n",
    "    print('An error occurred: %s' % error)"
   ]
  },
  {
   "cell_type": "markdown",
   "metadata": {},
   "source": [
    "### Converting image to embedding"
   ]
  },
  {
   "cell_type": "code",
   "execution_count": 5,
   "metadata": {},
   "outputs": [],
   "source": [
    "def image_to_embedding(image, model):\n",
    "    #image = cv2.resize(image, (96, 96), interpolation=cv2.INTER_AREA) \n",
    "    image = cv2.resize(image, (96, 96)) \n",
    "    img = image[...,::-1]\n",
    "    img = np.around(np.transpose(img, (0,1,2))/255.0, decimals=12)\n",
    "    x_train = np.array([img])\n",
    "    embedding = model.predict_on_batch(x_train)\n",
    "    return embedding"
   ]
  },
  {
   "cell_type": "markdown",
   "metadata": {},
   "source": [
    "### function to recognise image"
   ]
  },
  {
   "cell_type": "code",
   "execution_count": 90,
   "metadata": {},
   "outputs": [],
   "source": [
    "def recognize_face(face_image, input_embeddings, model):\n",
    "\n",
    "    embedding = image_to_embedding(face_image, model)\n",
    "    \n",
    "    minimum_distance = 200\n",
    "    name = None\n",
    "    \n",
    "    # Loop over  names and encodings.\n",
    "    for (input_name, input_embedding) in input_embeddings.items():\n",
    "        \n",
    "       \n",
    "        euclidean_distance = np.linalg.norm(embedding-input_embedding)\n",
    "        \n",
    "\n",
    "        #print('Euclidean distance from %s is %s' %(input_name, euclidean_distance))\n",
    "\n",
    "        \n",
    "        if euclidean_distance < minimum_distance:\n",
    "            minimum_distance = euclidean_distance\n",
    "            name = input_name\n",
    "    \n",
    "    if minimum_distance < 0.30:\n",
    "        return str(name)\n",
    "    else:\n",
    "        return None"
   ]
  },
  {
   "cell_type": "markdown",
   "metadata": {},
   "source": [
    "### Capturing image samples"
   ]
  },
  {
   "cell_type": "code",
   "execution_count": 7,
   "metadata": {},
   "outputs": [],
   "source": [
    "def sampling():\n",
    "    mid = raw_input(\"Enter the mailid\")\n",
    "    cam = cv2.VideoCapture(0)\n",
    "\n",
    "    face_detector = cv2.CascadeClassifier('haarcascade_frontalface_default.xml')\n",
    "    fn = 0\n",
    "    count = 0\n",
    "    while(True):\n",
    "        ret, img = cam.read()\n",
    "        #gray = cv2.cvtColor(img, cv2.COLOR_BGR2GRAY)\n",
    "        faces = face_detector.detectMultiScale(img, 1.3, 5)\n",
    "        for (x,y,w,h) in faces:\n",
    "            x1 = x\n",
    "            y1 = y\n",
    "            x2 = x+w\n",
    "            y2 = y+h\n",
    "            cv2.rectangle(img, (x1,y1), (x2,y2), (255,255,255), 2)     \n",
    "            count += 1\n",
    "            # Save the captured image into the datasets folder\n",
    "            cv2.imwrite(\"images/\"+mid + \".jpg\", img[y1:y2,x1:x2])\n",
    "            cv2.imshow('image', img)\n",
    "        k = cv2.waitKey(200) & 0xff # Press 'ESC' for exiting video\n",
    "        if k == 27:\n",
    "            break\n",
    "        elif count >= 10: # Take 30 face sample and stop video\n",
    "             break\n",
    "    cam.release()\n",
    "    cv2.destroyAllWindows()"
   ]
  },
  {
   "cell_type": "markdown",
   "metadata": {},
   "source": [
    "## This check if the gien creds is the person or not"
   ]
  },
  {
   "cell_type": "code",
   "execution_count": 8,
   "metadata": {},
   "outputs": [],
   "source": [
    "def mail_details():\n",
    "    a = raw_input(\"Enter your mail id\")\n",
    "    b = raw_input(\"Enter the reciever mail id\")\n",
    "    c = raw_input(\"Enter the mail subject\")\n",
    "    d = raw_input(\"Enter the mail body\")\n",
    "    return([a,b,c,d])"
   ]
  },
  {
   "cell_type": "code",
   "execution_count": 43,
   "metadata": {},
   "outputs": [],
   "source": [
    "def check_credentials(id1,id2,count,fn):\n",
    "    if(id1 == id2):\n",
    "        count += 1\n",
    "        print(\"hello\",id1)\n",
    "    else:\n",
    "        fn += 1\n",
    "        print(\"You are not who you say you are\")\n",
    "    if(count >3):\n",
    "        print(\"sending mail\")\n",
    "        service = send_mail()\n",
    "        from_mail,to_mail,subject,content = mail_details()\n",
    "        txt = create_message(from_mail,to_mail,subject,content)\n",
    "        send_message(service,from_mail,txt)\n",
    "        #txt = create_message('kajalsinha01@gmail.com','rohit123sinha456@gmail.com','Testing from anaconda','This workd')\n",
    "        #send_message(service,'kajalsinha01@gmail.com',txt)\n",
    "        return(10,fn)\n",
    "    return(count,fn)"
   ]
  },
  {
   "cell_type": "code",
   "execution_count": 51,
   "metadata": {},
   "outputs": [],
   "source": [
    "import glob\n",
    "\n",
    "def create_input_image_embeddings():\n",
    "    input_embeddings = {}\n",
    "\n",
    "    for file in glob.glob(\"images/*\"):\n",
    "        person_name = os.path.splitext(os.path.basename(file))[0]\n",
    "        image_file = cv2.imread(file, 1)\n",
    "        input_embeddings[person_name] = image_to_embedding(image_file, model)\n",
    "\n",
    "    return input_embeddings\n",
    "\n",
    "def recognize_faces_in_cam(input_embeddings,givenid):\n",
    "    fn = 0\n",
    "    count = 0\n",
    "    cv2.namedWindow(\"Face Recognizer\")\n",
    "    vc = cv2.VideoCapture(0)\n",
    "   \n",
    "\n",
    "    font = cv2.FONT_HERSHEY_SIMPLEX\n",
    "    face_cascade = cv2.CascadeClassifier('haarcascade_frontalface_default.xml')\n",
    "    \n",
    "    #while(count > 5):\n",
    "    while vc.isOpened():\n",
    "        _, frame = vc.read()\n",
    "        img = frame\n",
    "        height, width, channels = frame.shape\n",
    "\n",
    "        \n",
    "        \n",
    "        gray = cv2.cvtColor(frame, cv2.COLOR_BGR2GRAY)\n",
    "        faces = face_cascade.detectMultiScale(gray, 1.3, 5)\n",
    "\n",
    "        # Loop through all the faces detected \n",
    "        identities = []\n",
    "        for (x, y, w, h) in faces:\n",
    "            x1 = x\n",
    "            y1 = y\n",
    "            x2 = x+w\n",
    "            y2 = y+h\n",
    "\n",
    "           \n",
    "            \n",
    "            face_image = frame[max(0, y1):min(height, y2), max(0, x1):min(width, x2)]    \n",
    "            identity = recognize_face(face_image, input_embeddings, model)\n",
    "            \n",
    "            #print(identity)\n",
    "            #print(\"calling creds\")\n",
    "            count,fn = check_credentials(identity,givenid,count,fn)\n",
    "            if(count == 10):\n",
    "                print(fn)\n",
    "                break\n",
    "            '''\n",
    "            if identity is not None:\n",
    "                img = cv2.rectangle(frame,(x1, y1),(x2, y2),(255,255,255),2)\n",
    "                cv2.putText(img, str(identity), (x1+5,y1-5), font, 1, (255,255,255), 2)\n",
    "        \n",
    "        key = cv2.waitKey(100)\n",
    "        cv2.imshow(\"Face Recognizer\", img)\n",
    "        '''\n",
    "        key = cv2.waitKey(100)\n",
    "        if(count == 10):\n",
    "            break\n",
    "        if key == 27: # exit on ESC\n",
    "            break\n",
    "    vc.release()\n",
    "    cv2.destroyAllWindows()"
   ]
  },
  {
   "cell_type": "markdown",
   "metadata": {},
   "source": [
    "## Lets Run the program"
   ]
  },
  {
   "cell_type": "code",
   "execution_count": 92,
   "metadata": {},
   "outputs": [
    {
     "name": "stdout",
     "output_type": "stream",
     "text": [
      "Enter mail idpersonrohit02@gmail.com\n"
     ]
    }
   ],
   "source": [
    "mailid = raw_input(\"Enter mail id\")"
   ]
  },
  {
   "cell_type": "code",
   "execution_count": 93,
   "metadata": {},
   "outputs": [
    {
     "name": "stdout",
     "output_type": "stream",
     "text": [
      "You are not who you say you are\n",
      "You are not who you say you are\n",
      "You are not who you say you are\n",
      "You are not who you say you are\n",
      "You are not who you say you are\n",
      "You are not who you say you are\n",
      "You are not who you say you are\n",
      "You are not who you say you are\n",
      "You are not who you say you are\n",
      "You are not who you say you are\n",
      "You are not who you say you are\n",
      "You are not who you say you are\n",
      "CPU times: user 20.3 s, sys: 1.6 s, total: 21.9 s\n",
      "Wall time: 10.2 s\n"
     ]
    }
   ],
   "source": [
    "%%time\n",
    "try:\n",
    "    input_embeddings = create_input_image_embeddings()\n",
    "    recognize_faces_in_cam(input_embeddings,mailid)\n",
    "except:\n",
    "    pass"
   ]
  },
  {
   "cell_type": "code",
   "execution_count": 22,
   "metadata": {},
   "outputs": [
    {
     "name": "stdout",
     "output_type": "stream",
     "text": [
      "Enter the mailidpersonrohit02@gmail.com\n",
      "CPU times: user 10.7 s, sys: 2.13 s, total: 12.9 s\n",
      "Wall time: 57 s\n"
     ]
    }
   ],
   "source": [
    "%%time\n",
    "sampling()"
   ]
  },
  {
   "cell_type": "code",
   "execution_count": 142,
   "metadata": {},
   "outputs": [],
   "source": [
    "a = 0\n",
    "def incre(a):\n",
    "    return([12,23,34,45])"
   ]
  },
  {
   "cell_type": "code",
   "execution_count": 143,
   "metadata": {},
   "outputs": [],
   "source": [
    "q,w,e,r = incre(a)"
   ]
  },
  {
   "cell_type": "code",
   "execution_count": 15,
   "metadata": {
    "scrolled": true
   },
   "outputs": [
    {
     "name": "stdout",
     "output_type": "stream",
     "text": [
      "hello\n",
      "CPU times: user 2.69 ms, sys: 4.74 ms, total: 7.43 ms\n",
      "Wall time: 5.73 ms\n"
     ]
    }
   ],
   "source": [
    "%%time\n",
    "print(\"hello\")"
   ]
  },
  {
   "cell_type": "code",
   "execution_count": null,
   "metadata": {},
   "outputs": [],
   "source": []
  }
 ],
 "metadata": {
  "kernelspec": {
   "display_name": "Python [conda env:py2]",
   "language": "python",
   "name": "conda-env-py2-py"
  },
  "language_info": {
   "codemirror_mode": {
    "name": "ipython",
    "version": 2
   },
   "file_extension": ".py",
   "mimetype": "text/x-python",
   "name": "python",
   "nbconvert_exporter": "python",
   "pygments_lexer": "ipython2",
   "version": "2.7.17"
  }
 },
 "nbformat": 4,
 "nbformat_minor": 2
}
